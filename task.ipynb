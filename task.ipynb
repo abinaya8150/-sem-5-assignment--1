{
 "cells": [
  {
   "cell_type": "markdown",
   "id": "2880c46a-6207-4592-ab50-55e2e8452894",
   "metadata": {},
   "source": [
    "# blending"
   ]
  },
  {
   "cell_type": "code",
   "execution_count": 1,
   "id": "79f5e06f-2ecf-436c-9a1b-30858034dd7b",
   "metadata": {},
   "outputs": [],
   "source": [
    "import cv2\n",
    "import numpy as npa"
   ]
  },
  {
   "cell_type": "code",
   "execution_count": 2,
   "id": "b8f7d335-7060-4c2a-aef2-bed523581667",
   "metadata": {},
   "outputs": [
    {
     "name": "stdout",
     "output_type": "stream",
     "text": [
      "(148, 148, 3)\n",
      "148\n",
      "148\n"
     ]
    }
   ],
   "source": [
    "image = cv2.imread(\"flowerimg.jpg\")\n",
    "shp=image.shape\n",
    "print(shp)\n",
    "height,width=image.shape[:2]\n",
    "print(height)\n",
    "print(width)"
   ]
  },
  {
   "cell_type": "code",
   "execution_count": 3,
   "id": "d190cd44-36b8-49bb-872e-00d63755b09a",
   "metadata": {},
   "outputs": [],
   "source": [
    "image1 = cv2.resize(image,(800,800))"
   ]
  },
  {
   "cell_type": "code",
   "execution_count": 4,
   "id": "a925bc8f-360f-45da-9171-209dcd3ddd02",
   "metadata": {},
   "outputs": [],
   "source": [
    "horse = cv2.imread('object.jpg')"
   ]
  },
  {
   "cell_type": "code",
   "execution_count": 5,
   "id": "95290f03-09c5-4be2-a425-954af2863dd5",
   "metadata": {},
   "outputs": [],
   "source": [
    "horse1= cv2.resize(horse,(800,800))"
   ]
  },
  {
   "cell_type": "code",
   "execution_count": 6,
   "id": "ca7dfbe4-15d4-42a5-b63e-a4dd4726e1d5",
   "metadata": {},
   "outputs": [],
   "source": [
    "imAdd= cv2.addWeighted(image1,0.8,horse1,0.3,30)\n",
    "cv2.imshow('imAdd',imAdd)\n",
    "cv2.waitKey(0)\n",
    "cv2.destroyAllWindows()"
   ]
  },
  {
   "cell_type": "markdown",
   "id": "728a1f38-9af5-4dd4-b189-177ec3527582",
   "metadata": {},
   "source": [
    "# bitwise operation"
   ]
  },
  {
   "cell_type": "code",
   "execution_count": 7,
   "id": "27abb062-8494-423d-ab27-43a9be15596a",
   "metadata": {},
   "outputs": [],
   "source": [
    "bitwise_or = cv2.bitwise_or(horse1,image1,mask = None)"
   ]
  },
  {
   "cell_type": "code",
   "execution_count": 8,
   "id": "98f51f73-b2de-48e2-9bf2-de041b418535",
   "metadata": {},
   "outputs": [],
   "source": [
    "bitwise_and = cv2.bitwise_and(image1,horse1,mask = None)"
   ]
  },
  {
   "cell_type": "code",
   "execution_count": 9,
   "id": "ecd54bce-da74-4141-ab70-c7f5b54d05d8",
   "metadata": {},
   "outputs": [],
   "source": [
    "bitwise_xor = cv2.bitwise_xor(image1,horse1,mask = None)"
   ]
  },
  {
   "cell_type": "code",
   "execution_count": 10,
   "id": "5d780027-847b-4894-b714-b78a910e4cd0",
   "metadata": {},
   "outputs": [],
   "source": [
    "cv2.imshow(\"image1\",horse1)\n",
    "cv2.imshow(\"image2\",horse1)\n",
    "cv2.imshow(\"bitwise and\" ,bitwise_and)\n",
    "cv2.imshow(\"bitwise or\" ,bitwise_or)\n",
    "cv2.imshow(\"bitwise xor\", bitwise_xor)\n",
    "\n",
    "cv2.waitKey(0)\n",
    "cv2.destroyAllWindows()"
   ]
  },
  {
   "cell_type": "markdown",
   "id": "f7806941-facb-4e6a-a6cd-a744c54161e7",
   "metadata": {},
   "source": [
    "# rotation"
   ]
  },
  {
   "cell_type": "code",
   "execution_count": 11,
   "id": "01b045fb-9211-441c-be76-6c1431019bb0",
   "metadata": {},
   "outputs": [
    {
     "name": "stdout",
     "output_type": "stream",
     "text": [
      "(37.0, 37.0)\n"
     ]
    }
   ],
   "source": [
    "center = (height/4,width/4)\n",
    "print(center)"
   ]
  },
  {
   "cell_type": "code",
   "execution_count": 12,
   "id": "63012adb-734e-44f1-bf10-ff7e17e9ea66",
   "metadata": {},
   "outputs": [
    {
     "name": "stdout",
     "output_type": "stream",
     "text": [
      "[[  0.8660254    0.5        -13.54293994]\n",
      " [ -0.5          0.8660254   23.45706006]]\n"
     ]
    }
   ],
   "source": [
    "rotate_matrix = cv2.getRotationMatrix2D(center=center, angle=30, scale=1.0)\n",
    "print(rotate_matrix)"
   ]
  },
  {
   "cell_type": "code",
   "execution_count": 13,
   "id": "fc2e43b0-3150-4c85-a514-12cf6aeff11c",
   "metadata": {},
   "outputs": [],
   "source": [
    "rotated_image = cv2.warpAffine(src=horse1, M=rotate_matrix, dsize=(500,500))\n",
    "cv2.imshow('Original_image',horse1)\n",
    "cv2.waitKey(0)\n",
    "cv2.imshow('Rotate_image',rotated_image)\n",
    "cv2.waitKey(0)\n",
    "cv2.destroyAllWindows()"
   ]
  },
  {
   "cell_type": "code",
   "execution_count": null,
   "id": "f56a8c48-7829-4a11-8c3c-2ffa8cec3872",
   "metadata": {},
   "outputs": [],
   "source": []
  },
  {
   "cell_type": "code",
   "execution_count": null,
   "id": "faed191a-64ff-47ca-9f89-6bc31a563c4a",
   "metadata": {},
   "outputs": [],
   "source": []
  },
  {
   "cell_type": "code",
   "execution_count": null,
   "id": "6c9ffa63-4099-4669-8440-100f883147c6",
   "metadata": {},
   "outputs": [],
   "source": []
  }
 ],
 "metadata": {
  "kernelspec": {
   "display_name": "Python 3 (ipykernel)",
   "language": "python",
   "name": "python3"
  },
  "language_info": {
   "codemirror_mode": {
    "name": "ipython",
    "version": 3
   },
   "file_extension": ".py",
   "mimetype": "text/x-python",
   "name": "python",
   "nbconvert_exporter": "python",
   "pygments_lexer": "ipython3",
   "version": "3.11.9"
  }
 },
 "nbformat": 4,
 "nbformat_minor": 5
}
